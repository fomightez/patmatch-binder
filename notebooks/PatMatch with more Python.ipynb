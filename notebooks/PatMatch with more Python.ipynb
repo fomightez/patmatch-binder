{
 "cells": [
  {
   "cell_type": "markdown",
   "metadata": {},
   "source": [
    "# PatMatch  with more Python \n",
    "\n",
    "In a [previous notebook](PatMatch%20with%20Python%20basics.ipynb), I hinted there was an easier way to take the results from PatMatch to a useable dataframe in memory than passing through the intermediate of saving the pickled dataframe. As stated then, the way I showed earlier will work almost anywhere because it can be used when you are just running inidividual scripts and not working interactively or in a Jupyter environment.\n",
    "\n",
    "However, if you are working interactively in a Jupyter notebook environment (or the Pyton/IPython interpreter console), you can pass the saved results of PatMatch directly from the created text file to Python.  In other words, we will no longer need the `df.read_pickle` step we used previously right after running the `patmatch_results_to_df.py` to work with the results in Python.\n",
    "\n",
    "Because you are likely reading this in an active Jupyter environment, you can demonstrate this route for yourself.\n",
    "\n",
    "\n",
    "\n",
    "\n",
    "## Preparing\n",
    "\n",
    "In order to insure everything is all set, act as if this is a new session in this Jupyter environment, and run the next cell so that you can step through the preparation steps to get a sequence file, prepare it, and scan it for matches to insure there is data file present. Plus, you'll get the file for script to convert it to dataframe. Repeating these steps if you had already done so this session will cause no harm, and so go ahead and run this cell.\n"
   ]
  },
  {
   "cell_type": "code",
   "execution_count": null,
   "metadata": {},
   "outputs": [],
   "source": [
    "!curl -O https://downloads.yeastgenome.org/sequence/S288C_reference/chromosomes/fasta/chrmt.fsa\n",
    "!perl ../patmatch_1.2/unjustify_fasta.pl chrmt.fsa\n",
    "!perl ../patmatch_1.2/patmatch.pl -c \"DDWDWTAWAAGTARTADDDD\" chrmt.fsa.prepared > test.out\n",
    "!curl -O https://raw.githubusercontent.com/fomightez/sequencework/master/patmatch-utilities/patmatch_results_to_df.py"
   ]
  },
  {
   "cell_type": "markdown",
   "metadata": {},
   "source": [
    "## Passing results data into active memory without a file intermediate\n",
    "\n",
    "Similar to the way we brough the plotting function into the active computation space linked to an [earlier notebook](PatMatch%20with%20Python%20basics.ipynb), we'll bring in the main function associated with the `patmatch_results_to_df.py` script, aptly named `patmatch_results_to_df`. (As written below the command to do that looks a bit redundant;however, the first `from` part of the command below actually is referencing the `patmatch_results_to_df.py` script, but it doesn't need the `.py` extension because the `import` only deals with such files.)"
   ]
  },
  {
   "cell_type": "code",
   "execution_count": null,
   "metadata": {},
   "outputs": [],
   "source": [
    "from patmatch_results_to_df import patmatch_results_to_df"
   ]
  },
  {
   "cell_type": "markdown",
   "metadata": {},
   "source": [
    "Now you can call the main function, assigning the results directly to a dataframe."
   ]
  },
  {
   "cell_type": "code",
   "execution_count": null,
   "metadata": {},
   "outputs": [],
   "source": [
    "my_pattern= \"DDWDWTAWAAGTARTADDDD\"\n",
    "df = patmatch_results_to_df(\"test.out\", pattern=my_pattern, name=\"promoter\")"
   ]
  },
  {
   "cell_type": "markdown",
   "metadata": {},
   "source": [
    "The function still saves the pickled dataframe, but you also have the dataframe as a Python object in memory now.\n",
    "\n",
    "You can demonstrate that by running the next command."
   ]
  },
  {
   "cell_type": "code",
   "execution_count": null,
   "metadata": {},
   "outputs": [],
   "source": [
    "df.head()"
   ]
  },
  {
   "cell_type": "markdown",
   "metadata": {},
   "source": [
    "----\n",
    "\n",
    "## Conclusion\n",
    "\n",
    "Obviously this series of demo notebooks has only touched on the basics of workflows with command line-based PatMatch. Obviously, you can easily massively scale up what can be done on a lot of sequences by combining/adapting shell scripts or Python with these building blocks.   \n",
    "\n",
    "There is an [advanced notebook](Sending%20PatMatch%20output%20directly%20to%20Python.ipynb) included that wasn't previously mentioned. It builds on the approach shown in this notebook to demonstrate how you can further take advantage of the interactive Jupyter enviroment and completely skip even the intermediate result file from PatMatch. If you are performing your computational work in a more traditional command line settting and not a Jupyter/IPython environment, it won't be much use. Though hopefully these notebooks have given you the impression that there are a lot of advatanges to moving to such an environment and the MyBinder.org and similar resources make it easier than ever before to work and document without needing to install anything on your local machines."
   ]
  },
  {
   "cell_type": "code",
   "execution_count": null,
   "metadata": {},
   "outputs": [],
   "source": []
  }
 ],
 "metadata": {
  "kernelspec": {
   "display_name": "Python 3",
   "language": "python",
   "name": "python3"
  },
  "language_info": {
   "codemirror_mode": {
    "name": "ipython",
    "version": 3
   },
   "file_extension": ".py",
   "mimetype": "text/x-python",
   "name": "python",
   "nbconvert_exporter": "python",
   "pygments_lexer": "ipython3",
   "version": "3.6.5"
  }
 },
 "nbformat": 4,
 "nbformat_minor": 2
}
