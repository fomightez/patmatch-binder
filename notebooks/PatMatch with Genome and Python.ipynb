{
 "cells": [
  {
   "cell_type": "markdown",
   "metadata": {},
   "source": [
    "# PatMatch Use With a Genome and Protein Sequences + Python\n",
    "\n",
    "Here I'll demonstrate use of the stand-alone, command line based PatMatch on a genome sequence and protein sequences. \n",
    "Hopefully, you'll see the the script you used previously to move to Python will work for such data cases as well.\n",
    "\n",
    "## Preparing to use PatMatch software on genomic and protein sequence data\n",
    "\n"
   ]
  },
  {
   "cell_type": "markdown",
   "metadata": {},
   "source": [
    "*Genome file*\n",
    "\n",
    "As far as the genome, normally I'd recommnend obtaining the *Saccharomyces cerevisiae* budding yeast from [Illumina’s iGenomes site](https://support.illumina.com/sequencing/sequencing_software/igenome.html), and in fact, I have written out the commands necessary on the standard command line [here](http://fenglabwkshopmay2015.readthedocs.io/en/latest/genome%20of%20interest%20data%20acquisition/). [Illumina’s iGenomes site](https://support.illumina.com/sequencing/sequencing_software/igenome.html) is a collection of reference sequences and annotation files for commonly analyzed organisms.  However, it seems FTP-based and FTP sources won't work via Binder, and instead the genome file has been included already as `Sc_genome.fa`. (This has the advantage that it spares users from waiting a few seconds for the download to process.)\n",
    "\n",
    "Alternatively, the following code pasted in a Jupyter notebook cell will work in Jupyter environments run via Binder to get the genome sequnce from [here](https://downloads.yeastgenome.org/sequence/S288C_reference/genome_releases/). However, the genome file, `S288C_reference_sequence_R64-2-1_20150113.fsa`, from this source doesn't seem to contain nicely labeled chromosomes on the FASTA description lines and instead has cryptic alphanumerical code identifiers.\n",
    "\n",
    "```\n",
    "!curl -O https://downloads.yeastgenome.org/sequence/S288C_reference/genome_releases/S288C_reference_genome_Current_Release.tgz\n",
    "!tar -xzf S288C_reference_genome_Current_Release.tgz\n",
    "!cp S288C_reference_genome_R64-2-1_20150113/S288C_reference_sequence_R64-2-1_20150113.fsa .\n",
    "!rm -rf S288C_reference_genome_R64-2-1_20150113\n",
    "!rm S288C_reference_genome_Current_Release.tgz\n",
    "```\n",
    "\n",
    "Given those cryptic labels, we'll stick with the included FASTA genome file.\n",
    "\n",
    "*Protein sequences*\n",
    "\n",
    "Following advice from [here](https://www.biostars.org/p/106065/#106110) is it is easy to select several and get quite a few at once from [here](http://www.uniprot.org/uniprot/?query=%28taxonomy%3A9606%29+AND+reviewed%3Ayes) because it formats a link for you when you select some of the sequences by checking off the far left box next to each and choosing 'Download' from the bar above the list and then specify 'uncompressed' in the box that comes up. Hit `Go` to go to page and copy the link of the address bar. That link obtained can be used to make a `curl` command to get the text similar to the example shown in the following code cell.  \n",
    "Running the next cell will get a file of several human protein sequences."
   ]
  },
  {
   "cell_type": "code",
   "execution_count": null,
   "metadata": {},
   "outputs": [],
   "source": [
    "!curl \"https://www.uniprot.org/uniprot/?sort=&desc=&compress=no&query=id:P62258%20OR%20id:P61981%20OR%20id:P31947%20OR%20id:P63104%20OR%20id:P30443%20OR%20id:Q16537%20OR%20id:Q30167%20OR%20id:Q95IE3%20OR%20id:Q5Y7A7%20OR%20id:P46952%20OR%20id:P31937%20OR%20id:P30542%20OR%20id:Q9NS82%20OR%20id:Q9NRG9%20OR%20id:Q2M2I8%20OR%20id:O43741%20OR%20id:P54619%20OR%20id:Q9UNQ0%20OR%20id:Q9H172%20OR%20id:Q9H222%20OR%20id:Q8N2K0%20OR%20id:Q96I13%20OR%20id:Q8IZP0%20OR%20id:P49748%20OR%20d:Q5HYA8%20OR%20id:Q9UHC1%20OR%20id:Q9UHV7%20OR%20id:P52732%20OR%20id:Q15058%20OR%20id:Q9P2E2%20OR%20id:Q9P2G9%20OR%20id:Q86Z14%20OR%20id:Q8NB78%20OR%20id:Q9Y4C1&format=fasta\" > human_examples.txt"
   ]
  },
  {
   "cell_type": "markdown",
   "metadata": {},
   "source": [
    "If that download fails, paste `!cp human_examples_bckup.txt human_examples.txt` into a cell and run it so that the later steps will still work."
   ]
  },
  {
   "cell_type": "markdown",
   "metadata": {},
   "source": [
    "## Running PatMatch on Genomic Sequences and sending results into a Python dataframe\n",
    "\n",
    "Prepare the FASTA file per usual."
   ]
  },
  {
   "cell_type": "code",
   "execution_count": null,
   "metadata": {},
   "outputs": [],
   "source": [
    "!perl ../patmatch_1.2/unjustify_fasta.pl Sc_genome.fa"
   ]
  },
  {
   "cell_type": "markdown",
   "metadata": {},
   "source": [
    "Now run `PatMatch`."
   ]
  },
  {
   "cell_type": "code",
   "execution_count": null,
   "metadata": {},
   "outputs": [],
   "source": [
    "!perl ../patmatch_1.2/patmatch.pl -c \"DDWDWTAWAAGTARTADDDD\" Sc_genome.fa.prepared > entire_genome.out"
   ]
  },
  {
   "cell_type": "markdown",
   "metadata": {},
   "source": [
    "You'll need the script you used prior to convert the results to a dataframe. To insure that it is here, you can run this next cell."
   ]
  },
  {
   "cell_type": "code",
   "execution_count": null,
   "metadata": {},
   "outputs": [],
   "source": [
    "!curl -O https://raw.githubusercontent.com/fomightez/sequencework/master/patmatch-utilities/patmatch_results_to_df.py"
   ]
  },
  {
   "cell_type": "markdown",
   "metadata": {},
   "source": [
    "With that script, the results for the entire genome can be made into a dataframe."
   ]
  },
  {
   "cell_type": "code",
   "execution_count": null,
   "metadata": {},
   "outputs": [],
   "source": [
    "%run patmatch_results_to_df.py entire_genome.out --pattern DDWDWTAWAAGTARTADDDD -name promoter"
   ]
  },
  {
   "cell_type": "code",
   "execution_count": null,
   "metadata": {},
   "outputs": [],
   "source": [
    "import pandas as pd\n",
    "genome_df = pd.read_pickle(\"patmatch_pickled_df.pkl\")\n",
    "genome_df"
   ]
  },
  {
   "cell_type": "markdown",
   "metadata": {},
   "source": [
    "Having the data in a dataframe it is easy to tally the hit numbers by chromosome."
   ]
  },
  {
   "cell_type": "code",
   "execution_count": null,
   "metadata": {},
   "outputs": [],
   "source": [
    "genome_df.sort_values('hit_number', ascending=False, inplace=True)\n",
    "hit_nums_by_chr_df = genome_df.groupby('FASTA_id').head(1)\n",
    "hit_nums_by_chr_df"
   ]
  },
  {
   "cell_type": "markdown",
   "metadata": {},
   "source": [
    "## Running PatMatch on Protein Sequences and sending results into a Python dataframe\n",
    "\n",
    "Prepare the FASTA file obtained per usual."
   ]
  },
  {
   "cell_type": "code",
   "execution_count": null,
   "metadata": {},
   "outputs": [],
   "source": [
    "!perl ../patmatch_1.2/unjustify_fasta.pl human_examples.txt"
   ]
  },
  {
   "cell_type": "markdown",
   "metadata": {},
   "source": [
    "Now run `PatMatch`."
   ]
  },
  {
   "cell_type": "code",
   "execution_count": null,
   "metadata": {},
   "outputs": [],
   "source": [
    "!perl ../patmatch_1.2/patmatch.pl -p \"STEP\" human_examples.txt.prepared 1 s > human_protein.out"
   ]
  },
  {
   "cell_type": "markdown",
   "metadata": {},
   "source": [
    "Bring the results into Python dataframe. Since we brought the script into where this notebook is running earlier, we can run the Python script already. We just have to add the `--protein_results` flag to process the results as protein data because the script defaults to handling as if from nucleic acids and the dataframe will include irrelevant items otherwise."
   ]
  },
  {
   "cell_type": "code",
   "execution_count": null,
   "metadata": {},
   "outputs": [],
   "source": [
    "%run patmatch_results_to_df.py human_protein.out --pattern STEP -name our_motif --protein_results"
   ]
  },
  {
   "cell_type": "code",
   "execution_count": null,
   "metadata": {},
   "outputs": [],
   "source": [
    "import pandas as pd\n",
    "protein_df = pd.read_pickle(\"patmatch_pickled_df.pkl\")\n",
    "protein_df"
   ]
  },
  {
   "cell_type": "markdown",
   "metadata": {},
   "source": [
    "------\n",
    "\n",
    "Next\n",
    "----\n",
    "\n",
    "Return to the [index](../index.ipynb) or continue on with [the next notebook](PatMatch%20with%20more%20Python.ipynb) to see demonstration of a way to skip having the script save and then immediately bring that file back in to Python when you are actively perfoming pattern matching."
   ]
  }
 ],
 "metadata": {
  "kernelspec": {
   "display_name": "Python 3",
   "language": "python",
   "name": "python3"
  },
  "language_info": {
   "codemirror_mode": {
    "name": "ipython",
    "version": 3
   },
   "file_extension": ".py",
   "mimetype": "text/x-python",
   "name": "python",
   "nbconvert_exporter": "python",
   "pygments_lexer": "ipython3",
   "version": "3.6.5"
  }
 },
 "nbformat": 4,
 "nbformat_minor": 2
}
