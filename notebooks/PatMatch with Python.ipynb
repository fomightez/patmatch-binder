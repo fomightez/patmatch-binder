{
 "cells": [
  {
   "cell_type": "markdown",
   "metadata": {},
   "source": [
    "# Importing PatMatch Results into a Pandas Datafram and Exporting to Excel\n",
    "\n",
    "This will get some example sequences and analyze them and then parse the resulting data into something useful in Python. And even how to convert to Excel.\n",
    "\n",
    "### Preparing to use PatMatch software on sequence data\n",
    "\n",
    "First get an example nucleic acid sequence to work with. The sequence files PatMatch works with are FASTA according to the USAGE information.\n",
    "\n",
    "Click on the cell below and type `shift-enter` or press `Run` on the toolbar above to get an example file.  \n",
    "(In Jupyter notebooks running in the Python kernel as indicated in the upper right of this notebook, commands to the shell are prefaced with exclamation points. You'll notice when we switch to dealing with Python directly, this will not be needed.)"
   ]
  },
  {
   "cell_type": "code",
   "execution_count": 1,
   "metadata": {},
   "outputs": [
    {
     "name": "stdout",
     "output_type": "stream",
     "text": [
      "  % Total    % Received % Xferd  Average Speed   Time    Time     Time  Current\n",
      "                                 Dload  Upload   Total   Spent    Left  Speed\n",
      "100 87344  100 87344    0     0  87344      0  0:00:01 --:--:--  0:00:01  116k\n"
     ]
    }
   ],
   "source": [
    "!curl -O https://downloads.yeastgenome.org/sequence/S288C_reference/chromosomes/fasta/chrmt.fsa"
   ]
  },
  {
   "cell_type": "markdown",
   "metadata": {},
   "source": [
    "Check the file listing by executing the next cell to see the FASTA-formatted file has been retrieved. Work through the following cells simialrly."
   ]
  },
  {
   "cell_type": "code",
   "execution_count": null,
   "metadata": {},
   "outputs": [],
   "source": [
    "!ls"
   ]
  },
  {
   "cell_type": "markdown",
   "metadata": {},
   "source": [
    "Further following the PatMatch USAGE information, sequences should be treated so that the lines of sequence data are formatted to one line for handling by PatMatch. The PatMatch authors have provided a utility script for doing that preparation step, and so we will run that."
   ]
  },
  {
   "cell_type": "code",
   "execution_count": 2,
   "metadata": {},
   "outputs": [],
   "source": [
    "!perl patmatch_1.2/unjustify_fasta.pl chrmt.fsa"
   ]
  },
  {
   "cell_type": "markdown",
   "metadata": {},
   "source": [
    "That will produce a file with `.prepared` appended to the end of the supplied file name. \n",
    "\n",
    "We can check that by running checking the file listing again using `!ls`."
   ]
  },
  {
   "cell_type": "code",
   "execution_count": null,
   "metadata": {},
   "outputs": [],
   "source": [
    "!ls"
   ]
  },
  {
   "cell_type": "markdown",
   "metadata": {},
   "source": [
    "Having verified the prepared data file exists, we are ready to run the program to search for a pattern.\n",
    "\n",
    "### Running PatMatch\n",
    "\n",
    "The USAGE information says `-n` is for nucleotide pattern match and `-c` is for complementary strand; however, from my tests it seems that means in addition for the strand in the dataset.\n",
    "\n",
    "**<font color=\"red\">Therefore, if you want the pattern search to be performed on both strands of the supplied sequence as does the default of the web-based PatMatchs you actually want to use the `-c` flag when forming the command.</font>**\n",
    "\n",
    "(I didn't see an option in the USAGE infromation in the README to actually do the third option that the web-based PatMatch implementations typically offer, that being searching for the pattern in the reverse complement strand only. The sites must supply that as the only data in one of the datasets, it seems. Converting to the reverse complement is easily done within Python as well.)"
   ]
  },
  {
   "cell_type": "code",
   "execution_count": 5,
   "metadata": {},
   "outputs": [
    {
     "name": "stdout",
     "output_type": "stream",
     "text": [
      ">ref|NC_001224|:[54852,54833]\r\n",
      "AGATATATAAGTAATAGGGG \r\n",
      ">ref|NC_001224|:[78310,78291]\r\n",
      "ATTTTTATAAGTAGTATATT \r\n",
      ">ref|NC_001224|:[6458,6477]\r\n",
      "TATTATATAAGTAATAAATA \r\n",
      ">ref|NC_001224|:[13345,13364]\r\n",
      "ATTGATATAAGTAATAGATA \r\n",
      ">ref|NC_001224|:[32205,32224]\r\n",
      "AAATATATAAGTAATAAATT \r\n",
      ">ref|NC_001224|:[34874,34893]\r\n",
      "TATTATATAAGTAATATATA \r\n",
      ">ref|NC_001224|:[46067,46086]\r\n",
      "ATTAATATAAGTAATATATA \r\n",
      ">ref|NC_001224|:[57996,58015]\r\n",
      "ATATATATAAGTAGTAAAAA \r\n",
      ">ref|NC_001224|:[65380,65399]\r\n",
      "TGTTATATAAGTAATAATAT \r\n",
      ">ref|NC_001224|:[69701,69720]\r\n",
      "TTTATTATAAGTAATAATAT \r\n",
      ">ref|NC_001224|:[73692,73711]\r\n",
      "TTAATTAAAAGTAGTATTAA \r\n",
      ">ref|NC_001224|:[77394,77413]\r\n",
      "TATATTATAAGTAATAATAA \r\n",
      ">ref|NC_001224|:[82317,82336]\r\n",
      "AAATATATAAGTAATAGGGG \r\n",
      ">ref|NC_001224|:[84996,85015]\r\n",
      "GATTTTATAAGTAATATAAT \r\n"
     ]
    }
   ],
   "source": [
    "# !perl patmatch_1.2/patmatch.pl -n \"DDWDWTAWAAGTARTADDDD\" chrmt.fsa.prepared #dataset strand only\n",
    "!perl patmatch_1.2/patmatch.pl -c \"DDWDWTAWAAGTARTADDDD\" chrmt.fsa.prepared"
   ]
  },
  {
   "cell_type": "code",
   "execution_count": null,
   "metadata": {},
   "outputs": [],
   "source": [
    "!ls"
   ]
  },
  {
   "cell_type": "markdown",
   "metadata": {},
   "source": [
    "Add an example where search reverse complement stand only as demonstration here or flags?"
   ]
  },
  {
   "cell_type": "code",
   "execution_count": null,
   "metadata": {},
   "outputs": [],
   "source": []
  }
 ],
 "metadata": {
  "kernelspec": {
   "display_name": "Python 3",
   "language": "python",
   "name": "python3"
  },
  "language_info": {
   "codemirror_mode": {
    "name": "ipython",
    "version": 3
   },
   "file_extension": ".py",
   "mimetype": "text/x-python",
   "name": "python",
   "nbconvert_exporter": "python",
   "pygments_lexer": "ipython3",
   "version": "3.6.5"
  }
 },
 "nbformat": 4,
 "nbformat_minor": 2
}
