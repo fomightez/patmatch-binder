{
 "cells": [
  {
   "cell_type": "markdown",
   "metadata": {},
   "source": [
    "# PatMatch nucleic handling flags demystified\n",
    "\n",
    "-----\n",
    "***TL;DR:***\n",
    "\n",
    "### **<font color=\"red\">If you want the pattern search to be performed on both strands of the supplied sequence, as is the default of the web-based PatMatch tools, you actually want to use the `-c` flag when authoring the command.</font>**\n",
    "\n",
    "If that is sufficient for your uses, feel fee to skip this notebook and continue on matching patterns with PatMatch. If you want to know more...\n",
    "\n",
    "-----\n",
    "The notebook contents below illustrate clearly, step-by-step why I suggest this.\n",
    "\n",
    "## The situation\n",
    "\n",
    "I found the two choices for flags for PatMatch covered in PatMatch [USAGE](PatMatch%20initial%20demo%20and%20introduction.ipynb#Usage) a little unclear given typically options of web-based PatMatch list three choices. For example the associated option for [PatMatch for the Arabidopsis genome](http://www.arabidopsis.org/cgi-bin/patmatch/nph-patmatch.pl) looks like this:\n",
    "\n",
    ">If DNA, Strand:\n",
    "- both strands\n",
    "- Watson(given)\n",
    "- Crick(reverse complement)\n",
    "\n",
    "\n",
    "The listing for that option at the site for [PatMatch with the S. cerevisiae genome](https://www.yeastgenome.org/nph-patmatch) looks like this:\n",
    "\n",
    "> If DNA, Strand:\n",
    "- Both strands\n",
    "- Strand in dataset\n",
    "- Reverse complement of strand in dataset\n",
    "\n",
    "\n",
    "Yet [the USAGE](PatMatch%20initial%20demo%20and%20introduction.ipynb#Usage) for the stand-alone, command line based PatMatch simply lists:\n",
    "\n",
    ">Run PatMatch with the command:  \n",
    "perl patmatch.pl [residue] [pattern] [sequence file] [number of mismatches] [mismatch types]\n",
    "Residue types:  \n",
    "-n for nucleotide  \n",
    "-c for complementary strand  \n",
    "-p for protein  \n",
    "\n",
    "Showing only two options for nucleic. \n",
    "\n",
    "**Three options in the web-based offerings but only two in the command line program?**\n",
    "\n",
    "Given the situation, I initially I thought maybe one was for one strand and the other for the other strand and I could list both in the command. Or perhaps, I was expected to run first with `-n` and then with `-c` and combine the results. However, a few tests show that neither of those are the case.\n",
    "\n",
    "-----\n",
    "\n",
    "## Testing the various flag options\n",
    "\n",
    "### Preparation\n",
    "\n",
    "Example data will be obtained and prepared for use."
   ]
  },
  {
   "cell_type": "code",
   "execution_count": null,
   "metadata": {},
   "outputs": [],
   "source": [
    "!curl -O https://downloads.yeastgenome.org/sequence/S288C_reference/chromosomes/fasta/chr15.fsa\n",
    "!perl ../patmatch_1.2/unjustify_fasta.pl chr15.fsa"
   ]
  },
  {
   "cell_type": "markdown",
   "metadata": {},
   "source": [
    "### Testing the basic nucleic command\n",
    "\n",
    "Now to test some options.\n",
    "\n",
    "First try with the `-n` flag."
   ]
  },
  {
   "cell_type": "code",
   "execution_count": null,
   "metadata": {},
   "outputs": [],
   "source": [
    "!perl ../patmatch_1.2/patmatch.pl -n \"DDWDWTAWAAGTARTADDDD\" chr15.fsa.prepared "
   ]
  },
  {
   "cell_type": "markdown",
   "metadata": {},
   "source": [
    "That just gives one sequence:\n",
    "\n",
    "```\n",
    ">tpg|BK006948.2|:[541299,541318]\n",
    "GTTATTAAAAGTAATATTGT \n",
    "```"
   ]
  },
  {
   "cell_type": "markdown",
   "metadata": {},
   "source": [
    "### Testing combining\n",
    "\n",
    "Trying a couple of ways to add the `-c` flag to this shows that they seem to be exclusive"
   ]
  },
  {
   "cell_type": "code",
   "execution_count": null,
   "metadata": {},
   "outputs": [],
   "source": [
    "!perl ../patmatch_1.2/patmatch.pl -nc \"DDWDWTAWAAGTARTADDDD\" chr15.fsa.prepared"
   ]
  },
  {
   "cell_type": "markdown",
   "metadata": {},
   "source": [
    "`!perl ../patmatch_1.2/patmatch.pl -nc \"DDWDWTAWAAGTARTADDDD\" chr15.fsa.prepared` seems to return nothing. Not even a warning."
   ]
  },
  {
   "cell_type": "code",
   "execution_count": null,
   "metadata": {},
   "outputs": [],
   "source": [
    "!perl ../patmatch_1.2/patmatch.pl -n -c \"DDWDWTAWAAGTARTADDDD\" chr15.fsa.prepared"
   ]
  },
  {
   "cell_type": "markdown",
   "metadata": {},
   "source": [
    "That command gives an error `Invalid pattern syntax.  Please check your pattern and try again.`\n",
    "\n",
    "Seems no way to use both `-n` and `-c` flags in same call to `patmatch.pl`.\n",
    "\n",
    "### Testing with the `-c` flag\n",
    "\n",
    "Let's go ahead and try the `-c` flag and see what happens."
   ]
  },
  {
   "cell_type": "code",
   "execution_count": null,
   "metadata": {},
   "outputs": [],
   "source": [
    "!perl ../patmatch_1.2/patmatch.pl -c \"DDWDWTAWAAGTARTADDDD\" chr15.fsa.prepared"
   ]
  },
  {
   "cell_type": "markdown",
   "metadata": {},
   "source": [
    "That returns two sequences:\n",
    "\n",
    "```\n",
    ">tpg|BK006948.2|:[157831,157812]\n",
    "AAATATAAAAGTAGTAAGAA \n",
    ">tpg|BK006948.2|:[541299,541318]\n",
    "GTTATTAAAAGTAATATTGT \n",
    "```\n",
    "\n",
    "In other words we now see two sequences where we only saw one with the `-n` flag. Indeed, we see the one, `GTTATTAAAAGTAATATTGT [541299,541318]`, we obtained when we used the `-n` flag originally and have gained another. \n",
    "\n",
    "And so it looks strongly suggestive that the `-c` flag options means it is **for the complementary strand in addition to the strand in the dataset**. But can we prove that here? Can we see what the result is for just the complementary strand?\n",
    "\n",
    "As discussed above we seem to be out of options that we can use for nucleic acid with the command line `patmatch` command, but independent of anything involving PatMatch we can actually convert our sample sequence to a reverse complement using the popular [Biopython module](http://biopython.org/wiki/Seq), and then try with that where we again use the `-n` flag.  \n",
    "(This process has now been written up into a proper script; however, this form is left here as it is nicely contained and a good illustration of some basic use of the biopython module.)"
   ]
  },
  {
   "cell_type": "code",
   "execution_count": null,
   "metadata": {},
   "outputs": [],
   "source": [
    "## CONVERT TO REVERSE COMPLEMENT USING BIOPYTHON **\n",
    "# this code block has now been adapted into a proper script at https://github.com/fomightez/sequencework/blob/master/ConvertSeq/convert_fasta_to_reverse_complement.py\n",
    "from Bio import SeqIO\n",
    "from Bio.Seq import Seq # for reverse complement\n",
    "\n",
    "def get_seq_from_file(file_name):\n",
    "    '''\n",
    "    takes a file name and gets the sequence RECORD. \n",
    "    '''\n",
    "    fasta_iterator = SeqIO.parse(file_name, \"fasta\")\n",
    "    # Use of `next()` on next line to get first FASTA -formatted sequence is \n",
    "    # based on http://biopython.org/DIST/docs/api/Bio.SeqIO-module.html\n",
    "    # I think difference from `SeqIO.read()` in this approach is that it won't\n",
    "    # give an error of more than one entry is in the file.\n",
    "    record = next(fasta_iterator)\n",
    "    #return record.seq\n",
    "    #return record.id\n",
    "    return record\n",
    "    \n",
    "# Read FASTA file\n",
    "input_file_name = \"chr15.fsa\"\n",
    "sequence_record = get_seq_from_file(input_file_name)\n",
    "#print(sequence_record) #FOR DEBUGGING\n",
    "\n",
    "# Get reverse complement\n",
    "#seq_rev_compl_record = sequence_record.reverse_complement()\n",
    "#seq_rev_compl_record.id = sequence_record.id #record needs id for writing FASTA\n",
    "seq_rev_compl_record = sequence_record.reverse_complement(id=True,description=True) #better\n",
    "# way to do above, see\n",
    "# https://biopython.org/DIST/docs/api/Bio.SeqRecord.SeqRecord-class.html#reverse_complement \n",
    "#print(seq_rev_compl_record) #FOR DEBUGGING\n",
    "\n",
    "\n",
    "# Save FASTA file for reverse complement\n",
    "output_file_name = \"chr15.revcompl.fa\"\n",
    "SeqIO.write(seq_rev_compl_record, output_file_name, \"fasta\");"
   ]
  },
  {
   "cell_type": "markdown",
   "metadata": {},
   "source": [
    "Next prepare the reverse complement made in the last cell for use with `patmatch.pl`."
   ]
  },
  {
   "cell_type": "code",
   "execution_count": null,
   "metadata": {},
   "outputs": [],
   "source": [
    "!perl ../patmatch_1.2/unjustify_fasta.pl chr15.revcompl.fa"
   ]
  },
  {
   "cell_type": "code",
   "execution_count": null,
   "metadata": {},
   "outputs": [],
   "source": [
    "!perl ../patmatch_1.2/patmatch.pl -n \"DDWDWTAWAAGTARTADDDD\" chr15.revcompl.fa.prepared"
   ]
  },
  {
   "cell_type": "markdown",
   "metadata": {},
   "source": [
    "\n",
    "That just simply returns one sequence:\n",
    "\n",
    "```\n",
    ">tpg|BK006948.2|:[933461,933480]\n",
    "AAATATAAAAGTAGTAAGAA \n",
    "```\n",
    "\n",
    "This is the same sequence as the additional sequence we saw gained when `!perl ../patmatch_1.2/patmatch.pl -c \"DDWDWTAWAAGTARTADDDD\" chr15.fsa.prepared` was run after running with the `-n` flag. Just the numbering appears different because numbering along reverse complement being returned. Chromosome 15 is 1091291 bps long, and with that we can switch back the numbering using subtraction: 1091291 - 933461 + 1 = 157831.\n",
    "\n",
    "That proves that that `-c` means it is for the complementary strand **in addition to** the strand in the dataset. And perhaps, `-b`, along the lines of `-both`, might have been a better letter choice for the flag designation.\n",
    "\n",
    "(I didn't see an option in the USAGE information in the README to actually do the third option that the web-based PatMatch implementations typically offer, that being searching for the pattern in the reverse complement strand only. The sites must supply the reverse complement data and trigger using that with the `-n` option internally when user's choose just to look at the reverse complement, it seems. And we also have shown here that converting to the reverse complement is easily done within Python as well, and so those options are are available from the command line, too. It's just not as obvious how to that here as with the web-based implementations.)\n",
    "\n",
    "In summary, this is why I point out in the main notebook that typically you probably want the `-c` flag for nucleic acid pattern matching. Here is that note repeated here:\n",
    "\n",
    "### **<font color=\"red\">If you want the pattern search to be performed on both strands of the supplied sequence, as is the default of the web-based PatMatch tools, you actually want to use the `-c` flag when authoring the command.</font>**"
   ]
  }
 ],
 "metadata": {
  "kernelspec": {
   "display_name": "Python 3",
   "language": "python",
   "name": "python3"
  },
  "language_info": {
   "codemirror_mode": {
    "name": "ipython",
    "version": 3
   },
   "file_extension": ".py",
   "mimetype": "text/x-python",
   "name": "python",
   "nbconvert_exporter": "python",
   "pygments_lexer": "ipython3",
   "version": "3.6.5"
  }
 },
 "nbformat": 4,
 "nbformat_minor": 2
}
