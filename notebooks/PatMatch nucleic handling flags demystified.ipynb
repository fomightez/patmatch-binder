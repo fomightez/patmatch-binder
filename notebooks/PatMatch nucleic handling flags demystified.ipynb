{
 "cells": [
  {
   "cell_type": "markdown",
   "metadata": {},
   "source": [
    "# PatMatch nucleic handling flags demystified\n",
    "\n",
    "I found the two choices for flags for PatMatch covered in PatMatch [USAGE](PatMatch initial demo and introduction.ipynb#Usage) a little unclear given typically options of web-based PatMatch list three choices. For example the associated option for [PatMatch for the Arabidopsis genome](http://www.arabidopsis.org/cgi-bin/patmatch/nph-patmatch.pl) looks like this:\n",
    "\n",
    ">If DNA, Strand:\n",
    "- both strands\n",
    "- Watson(given)\n",
    "- Crick(reverse complement)\n",
    "\n",
    "\n",
    "The listing for that option at the site for [PatMatch with the S. cerevisiae genome](https://www.yeastgenome.org/nph-patmatch) looks like this:\n",
    "\n",
    "> If DNA, Strand:\n",
    "- Both strands\n",
    "- Strand in dataset\n",
    "- Reverse complement of strand in dataset\n",
    "\n",
    "\n",
    "Yet [the USAGE](PatMatch initial demo and introduction.ipynb#Usage) for the stand-alone, command line based PatMatch simply lists:\n",
    "\n",
    ">Run PatMatch with the command:  \n",
    "perl patmatch.pl [residue] [pattern] [sequence file] [number of mismatches] [mismatch types]\n",
    "Residue types:  \n",
    "-n for nucleotide  \n",
    "-c for complementary strand  \n",
    "-p for protein  \n",
    "\n",
    "Showing only two options for nucleic. \n",
    "\n",
    "**Three options in the web-based offerings but only two in the command line program?**\n",
    "\n",
    "Given the situation, I initially I thought maybe one was for one strand and the other for the other strand and I could list both in the command. Or perhaps, I was expected to run first with `-n` and then with `-c` and combine the results. However, a few tests show that neither of those are the case.\n",
    "\n",
    "TESTS GO HERE.\n",
    "\n",
    "\n",
    "\n",
    "\n",
    "(I didn't see an option in the USAGE infromation in the README to actually do the third option that the web-based PatMatch implementations typically offer, that being searching for the pattern in the reverse complement strand only. The sites must supply that as the only data in one of the datasets, it seems. Converting to the reverse complement is easily done within Python as well.)\n",
    "\n",
    "It seems that `-c` means it is for the complementary strand **in addition to** the strand in the dataset. \n",
    "\n",
    "Thus this is why I point out in the main notebook on use that typically you probably want the `-c` flag for nucleic acid pattern matching. Here is that note repeated here:\n",
    "\n",
    "### **<font color=\"red\">If you want the pattern search to be performed on both strands of the supplied sequence, as is the default of the web-based PatMatch tools, you actually want to use the `-c` flag when authoring the command.</font>**"
   ]
  },
  {
   "cell_type": "code",
   "execution_count": null,
   "metadata": {},
   "outputs": [
    {
     "name": "stdout",
     "output_type": "stream",
     "text": [
      ".\n"
     ]
    }
   ],
   "source": [
    "# %load https://gist.githubusercontent.com/fomightez/b012e51ebef6ec58c1515df3ee0c850a/raw/300da6c67ceeaf5384a3e500648b993345c361cb/run_every_eight_mins.py\n",
    "import time\n",
    "\n",
    "def executeSomething():\n",
    "    #code here\n",
    "    print ('.')\n",
    "    time.sleep(480) #60 seconds times 8 minutes\n",
    "\n",
    "while True:\n",
    "    executeSomething()"
   ]
  },
  {
   "cell_type": "code",
   "execution_count": null,
   "metadata": {},
   "outputs": [],
   "source": []
  }
 ],
 "metadata": {
  "kernelspec": {
   "display_name": "Python 3",
   "language": "python",
   "name": "python3"
  },
  "language_info": {
   "codemirror_mode": {
    "name": "ipython",
    "version": 3
   },
   "file_extension": ".py",
   "mimetype": "text/x-python",
   "name": "python",
   "nbconvert_exporter": "python",
   "pygments_lexer": "ipython3",
   "version": "3.6.5"
  }
 },
 "nbformat": 4,
 "nbformat_minor": 2
}
