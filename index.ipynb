{
 "cells": [
  {
   "cell_type": "markdown",
   "metadata": {
    "collapsed": true
   },
   "source": [
    "# PatMatch-binder: PatMatch stand alone software in your browser\n",
    "\n",
    "Welcome. Select a notebook below to get started.  \n",
    "If in doubt, start with the one at top and work down.\n",
    "\n",
    "## Notebooks\n",
    "[PatMatch initial demo and introduction](notebooks/PatMatch\ initial\ demo\ and\ introduction.ipynb)\n",
    "\n",
    "\n",
    "[PatMatch with Python](notebooks/PatMatch\ with\ Python.ipynb)\n"
   ]
  },
  {
   "cell_type": "code",
   "execution_count": null,
   "metadata": {
    "collapsed": true
   },
   "outputs": [],
   "source": []
  }
 ],
 "metadata": {
  "anaconda-cloud": {},
  "kernelspec": {
   "display_name": "Python 3",
   "language": "python",
   "name": "python3"
  },
  "language_info": {
   "codemirror_mode": {
    "name": "ipython",
    "version": 3
   },
   "file_extension": ".py",
   "mimetype": "text/x-python",
   "name": "python",
   "nbconvert_exporter": "python",
   "pygments_lexer": "ipython3",
   "version": "3.6.4"
  }
 },
 "nbformat": 4,
 "nbformat_minor": 1
}
