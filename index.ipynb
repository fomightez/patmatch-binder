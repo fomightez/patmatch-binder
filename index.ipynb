{
 "cells": [
  {
   "cell_type": "markdown",
   "metadata": {},
   "source": [
    "# PatMatch-binder\n",
    "## PatMatch stand-alone, command line-based software in your browser\n",
    "\n",
    "Welcome. Select a notebook below to get started.\n",
    "\n",
    "If in doubt, start with the one at the top and work down.\n",
    "\n",
    "## Notebooks\n",
    "\n",
    "- [PatMatch initial demo and introduction](notebooks/PatMatch initial demo and introduction.ipynb)\n",
    "- [PatMatch with Python basics](notebooks/PatMatch with Python basics.ipynb)\n",
    "- [PatMatch with a Genome and Protein + Python](notebooks/PatMatch with Genome and Python.ipynb)\n",
    "- [PatMatch with more Python](notebooks/PatMatch with more Python.ipynb)\n",
    "\n",
    "-----\n",
    "\n",
    "\n",
    "## Additional topics\n",
    "- [PatMatch nucleic handling flags demystified](notebooks/PatMatch nucleic handling flags demystified.ipynb)\n",
    "- [Advanced: Sending PatMatch output directly to Python](notebooks/Sending PatMatch output directly to Python.ipynb)"
   ]
  },
  {
   "cell_type": "code",
   "execution_count": null,
   "metadata": {},
   "outputs": [],
   "source": []
  }
 ],
 "metadata": {
  "kernelspec": {
   "display_name": "Python 3",
   "language": "python",
   "name": "python3"
  },
  "language_info": {
   "codemirror_mode": {
    "name": "ipython",
    "version": 3
   },
   "file_extension": ".py",
   "mimetype": "text/x-python",
   "name": "python",
   "nbconvert_exporter": "python",
   "pygments_lexer": "ipython3",
   "version": "3.6.5"
  }
 },
 "nbformat": 4,
 "nbformat_minor": 2
}
